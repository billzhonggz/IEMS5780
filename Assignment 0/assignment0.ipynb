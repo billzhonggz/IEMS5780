{
 "cells": [
  {
   "cell_type": "markdown",
   "metadata": {
    "colab_type": "text",
    "id": "kLnixNecFXYf"
   },
   "source": [
    "# IEMS5780 2019-2020 Term 1\n",
    "## Assignment 0 - Basic Python Programming\n",
    "\n",
    "### Instructions\n",
    "\n",
    "* **Deadline: 23:59, 21st September, 2018 (Saturday)**\n",
    "* Implement the functions in each problem according to the requirements described in the problem\n",
    "* After finishing the whole assignment, download the notebook and name it **<student_id>_assignment1.ipynb**, and submit it to Blackboard"
   ]
  },
  {
   "cell_type": "raw",
   "metadata": {},
   "source": [
    "Name: ZHONG, Junru 鍾鈞儒\n",
    "Student ID: 1155130306"
   ]
  },
  {
   "cell_type": "markdown",
   "metadata": {
    "colab_type": "text",
    "id": "fUZgkZzfjraY"
   },
   "source": [
    "## Problem 1\n",
    "\n",
    "Write a function that returns the number of integers that are divisble by 5 but not a multiple of 3 between two given non-zero integers `a` and `b` (including `a` and `b`, `a, b >= 0`, and `a <= b`). For example, if `a = 10` and `b = 30`, it should return 3 as there are two integers (10, 20 and 25) that satisfy the above condition. "
   ]
  },
  {
   "cell_type": "code",
   "execution_count": null,
   "metadata": {
    "colab": {},
    "colab_type": "code",
    "id": "2yVN24WNFrgb"
   },
   "outputs": [],
   "source": [
    "# Problem 1\n",
    "\n",
    "def problem_1(a, b):\n",
    "    output = 0\n",
    "    for num in range(a, b):\n",
    "      if num % 5 == 0 and num % 3 != 0:\n",
    "        output = output + 1\n",
    "      else:\n",
    "        continue\n",
    "    return output"
   ]
  },
  {
   "cell_type": "code",
   "execution_count": null,
   "metadata": {
    "colab": {
     "base_uri": "https://localhost:8080/",
     "height": 35
    },
    "colab_type": "code",
    "executionInfo": {
     "elapsed": 880,
     "status": "ok",
     "timestamp": 1567913753599,
     "user": {
      "displayName": "Junru Zhong",
      "photoUrl": "https://lh3.googleusercontent.com/a-/AAuE7mCfMPC3jPg6c5EAB6AVKsXwnVw0HJLUamZ_DCrH8dw=s64",
      "userId": "11128400810443683367"
     },
     "user_tz": -480
    },
    "id": "PyeD2VdHF0q_",
    "outputId": "6868c803-6a9a-414e-a86c-4204aa408a13"
   },
   "outputs": [
    {
     "data": {
      "text/plain": [
       "3"
      ]
     },
     "execution_count": 2,
     "metadata": {
      "tags": []
     },
     "output_type": "execute_result"
    }
   ],
   "source": [
    "# The expected output of the following is 3\n",
    "problem_1(10, 30)"
   ]
  },
  {
   "cell_type": "markdown",
   "metadata": {
    "colab_type": "text",
    "id": "f-dBaM9BkHSd"
   },
   "source": [
    "## Problem 2\n",
    "\n",
    "Write a function that returns the sum of `n + nnn + nnnnn` given that `n` is a positive single-digit number (i.e. `n` can be 0 to 9). For example, if `n = 8`, then the function should return `8 + 888 + 88888 = 89784`. You should also check that `n` is a single digit, if not you should simply return `0`."
   ]
  },
  {
   "cell_type": "code",
   "execution_count": null,
   "metadata": {
    "colab": {},
    "colab_type": "code",
    "id": "AhNg1_BjTBGA"
   },
   "outputs": [],
   "source": [
    "# Problem 2\n",
    "\n",
    "def problem_2(n):\n",
    "    output = 0\n",
    "    if n not in range(0, 9):\n",
    "      return 0\n",
    "    else:\n",
    "      output = output + n * 11111\n",
    "      output = output + n * 111\n",
    "      output = output + n\n",
    "    return output"
   ]
  },
  {
   "cell_type": "code",
   "execution_count": null,
   "metadata": {
    "colab": {
     "base_uri": "https://localhost:8080/",
     "height": 35
    },
    "colab_type": "code",
    "executionInfo": {
     "elapsed": 854,
     "status": "ok",
     "timestamp": 1567914021011,
     "user": {
      "displayName": "Junru Zhong",
      "photoUrl": "https://lh3.googleusercontent.com/a-/AAuE7mCfMPC3jPg6c5EAB6AVKsXwnVw0HJLUamZ_DCrH8dw=s64",
      "userId": "11128400810443683367"
     },
     "user_tz": -480
    },
    "id": "84YpB5n8ko4x",
    "outputId": "c18e23db-f4fb-477e-d68c-1d1dd9a909a7"
   },
   "outputs": [
    {
     "data": {
      "text/plain": [
       "89784"
      ]
     },
     "execution_count": 8,
     "metadata": {
      "tags": []
     },
     "output_type": "execute_result"
    }
   ],
   "source": [
    "# The expected output of the following is 89784\n",
    "problem_2(8)"
   ]
  },
  {
   "cell_type": "markdown",
   "metadata": {
    "colab_type": "text",
    "id": "fn5r2aqYkuEt"
   },
   "source": [
    "## Problem 3\n",
    "\n",
    "Write a function that, given a list of integers, returns the subsequence that has the largest sum, as well as the sum. For example, if `nums = [1, 3, -2, 4, 8, -9, 0, 5]`, the subsequence with the largest sum is `[1, 3, -2, 4, 8]`, therefore the function should return a tuple `([1, 3, -2, 4, 8], 14)`."
   ]
  },
  {
   "cell_type": "code",
   "execution_count": 13,
   "metadata": {
    "colab": {},
    "colab_type": "code",
    "id": "AjzhMaK1ks7s"
   },
   "outputs": [],
   "source": [
    "# Problem 3\n",
    "\n",
    "def problem_3(nums):\n",
    "    # Using dynamic programming.\n",
    "    current_seq = seq= [nums[0]]\n",
    "    current_sum = seq_sum = nums[0]\n",
    "    for i in range(1,len(nums)):\n",
    "        if current_sum <= 0:\n",
    "            current_sum = nums[i]\n",
    "            current_seq = [nums[i]]\n",
    "        else:\n",
    "            current_sum = current_sum + nums[i]\n",
    "            current_seq += [nums[i]]\n",
    "        if current_sum > seq_sum:\n",
    "            seq_sum = current_sum\n",
    "        else:\n",
    "            current_seq[:-1]\n",
    "    seq = current_seq\n",
    "    return seq, seq_sum"
   ]
  },
  {
   "cell_type": "code",
   "execution_count": 14,
   "metadata": {
    "colab": {
     "base_uri": "https://localhost:8080/",
     "height": 35
    },
    "colab_type": "code",
    "id": "ipjKkYXTleEh",
    "outputId": "59aeb4a6-7b9e-4054-dcda-eab13d1529f9"
   },
   "outputs": [
    {
     "data": {
      "text/plain": [
       "([1, 3, -2, 4, 8, -9, 0, 5], 14)"
      ]
     },
     "execution_count": 14,
     "metadata": {},
     "output_type": "execute_result"
    }
   ],
   "source": [
    "# The expected output of the following is ([1, 3, -2, 4, 8], 14)\n",
    "problem_3([1, 3, -2, 4, 8, -9, 0, 5])"
   ]
  },
  {
   "cell_type": "markdown",
   "metadata": {
    "colab_type": "text",
    "id": "-pXQfvvEloeb"
   },
   "source": [
    "## Problem 4\n",
    "\n",
    "Write a function that sorts the words in a sentence. For example, if the input to the function is `the chinese university of hong hong`, the output of the function should be the string `chinese hong kong of the university`. The words should be sorted in **ascending order** of their ASCII values. You can assume that only **lowercase alphabets** and **space** will be present in the input string."
   ]
  },
  {
   "cell_type": "code",
   "execution_count": null,
   "metadata": {
    "colab": {},
    "colab_type": "code",
    "id": "hIhrj1AXlnIY"
   },
   "outputs": [],
   "source": [
    "def problem_4(sentence):\n",
    "    output = \"\"\n",
    "    words = sorted(sentence.split())\n",
    "    # Append words to sentence.\n",
    "    for item in words:\n",
    "      output = output + ' ' + item\n",
    "    return output"
   ]
  },
  {
   "cell_type": "code",
   "execution_count": 35,
   "metadata": {
    "colab": {
     "base_uri": "https://localhost:8080/",
     "height": 35
    },
    "colab_type": "code",
    "executionInfo": {
     "elapsed": 899,
     "status": "ok",
     "timestamp": 1568011764413,
     "user": {
      "displayName": "Junru Zhong",
      "photoUrl": "https://lh3.googleusercontent.com/a-/AAuE7mCfMPC3jPg6c5EAB6AVKsXwnVw0HJLUamZ_DCrH8dw=s64",
      "userId": "11128400810443683367"
     },
     "user_tz": -480
    },
    "id": "L5ZfJ8mIlsoM",
    "outputId": "a76a11c2-f5b1-4340-9fa5-ff31a2aa1cc5"
   },
   "outputs": [
    {
     "data": {
      "text/plain": [
       "' chinese hong kong of the university'"
      ]
     },
     "execution_count": 35,
     "metadata": {
      "tags": []
     },
     "output_type": "execute_result"
    }
   ],
   "source": [
    "# The expected output of the following is 'chinese hong kong of the university'\n",
    "problem_4('the chinese university of hong kong')"
   ]
  },
  {
   "cell_type": "markdown",
   "metadata": {
    "colab_type": "text",
    "id": "UyXc2N92l26X"
   },
   "source": [
    "## Problem 5\n",
    "\n",
    "Write a function that counts the number of occurrence of each word in a given string, and then return a list of the the **5 most frequent words along with their counts**. Please note that you should convert all alphabets into **lowercases** first. You can assume that words are **separated by spaces**, and you do not have to remove any other symbols from the words.\n",
    "\n",
    "Note: if two words are equally frequent in the sentence, you should sort them in **descending order of their ASCII values**."
   ]
  },
  {
   "cell_type": "code",
   "execution_count": null,
   "metadata": {
    "colab": {},
    "colab_type": "code",
    "id": "bGs_ZSHbmKpc"
   },
   "outputs": [],
   "source": [
    "def problem_5(sentence):\n",
    "  # I cannot use dictionary because a key cannot include ().\n",
    "    output = []\n",
    "    frequency_list = []\n",
    "    # To lowercase\n",
    "    sentence = sentence.lower()\n",
    "    # Split & sort\n",
    "    words = sorted(sentence.split())\n",
    "    for word in words:\n",
    "      appearence = False\n",
    "      for item in frequency_list:\n",
    "        if item[1] == word:\n",
    "          item[0] = item[0] + 1\n",
    "          appearence = True\n",
    "        else:\n",
    "          continue\n",
    "      if appearence == False:\n",
    "        frequency_list.append([1, word])\n",
    "    frequency_list = sorted(frequency_list)\n",
    "    for item in frequency_list:\n",
    "      output.append((item[0], item[1]))\n",
    "    return output"
   ]
  },
  {
   "cell_type": "code",
   "execution_count": 47,
   "metadata": {
    "colab": {
     "base_uri": "https://localhost:8080/",
     "height": 1000
    },
    "colab_type": "code",
    "executionInfo": {
     "elapsed": 1260,
     "status": "ok",
     "timestamp": 1568012076169,
     "user": {
      "displayName": "Junru Zhong",
      "photoUrl": "https://lh3.googleusercontent.com/a-/AAuE7mCfMPC3jPg6c5EAB6AVKsXwnVw0HJLUamZ_DCrH8dw=s64",
      "userId": "11128400810443683367"
     },
     "user_tz": -480
    },
    "id": "N98wJDIglxGg",
    "outputId": "f724ab65-fce1-459c-db4b-794b9a8d2b12"
   },
   "outputs": [
    {
     "data": {
      "text/plain": [
       "[(1, '(ip).'),\n",
       " (1, '(tcp)'),\n",
       " (1, '(udp),'),\n",
       " (1, 'administration,'),\n",
       " (1, 'an'),\n",
       " (1, 'between'),\n",
       " (1, 'by'),\n",
       " (1, 'commonly'),\n",
       " (1, 'communicating'),\n",
       " (1, 'complemented'),\n",
       " (1, 'connectionless'),\n",
       " (1, 'control'),\n",
       " (1, 'data'),\n",
       " (1, 'delivery'),\n",
       " (1, 'do'),\n",
       " (1, 'email,'),\n",
       " (1, 'emphasizes'),\n",
       " (1, 'entire'),\n",
       " (1, 'error-checked'),\n",
       " (1, 'file'),\n",
       " (1, 'hosts'),\n",
       " (1, 'implementation'),\n",
       " (1, 'initial'),\n",
       " (1, 'ip'),\n",
       " (1, 'latency'),\n",
       " (1, 'main'),\n",
       " (1, 'major'),\n",
       " (1, 'may'),\n",
       " (1, 'network'),\n",
       " (1, 'network.'),\n",
       " (1, 'not'),\n",
       " (1, 'octets'),\n",
       " (1, 'one'),\n",
       " (1, 'ordered,'),\n",
       " (1, 'originated'),\n",
       " (1, 'over'),\n",
       " (1, 'protocols'),\n",
       " (1, 'reduced'),\n",
       " (1, 'referred'),\n",
       " (1, 'reliability.'),\n",
       " (1, 'reliable'),\n",
       " (1, 'reliable,'),\n",
       " (1, 'rely'),\n",
       " (1, 'remote'),\n",
       " (1, 'require'),\n",
       " (1, 'running'),\n",
       " (1, 'such'),\n",
       " (1, 'suite'),\n",
       " (1, 'suite.'),\n",
       " (1, 'tcp'),\n",
       " (1, 'tcp.'),\n",
       " (1, 'tcp/ip.'),\n",
       " (1, 'therefore,'),\n",
       " (1, 'to'),\n",
       " (1, 'transfer'),\n",
       " (1, 'transmission'),\n",
       " (1, 'use'),\n",
       " (1, 'user'),\n",
       " (1, 'web,'),\n",
       " (1, 'wide'),\n",
       " (1, 'world'),\n",
       " (2, 'a'),\n",
       " (2, 'and'),\n",
       " (2, 'as'),\n",
       " (2, 'datagram'),\n",
       " (2, 'in'),\n",
       " (2, 'is'),\n",
       " (2, 'it'),\n",
       " (2, 'on'),\n",
       " (2, 'provides'),\n",
       " (2, 'service'),\n",
       " (2, 'stream'),\n",
       " (2, 'that'),\n",
       " (2, 'which'),\n",
       " (3, 'applications'),\n",
       " (3, 'internet'),\n",
       " (4, 'of'),\n",
       " (4, 'protocol'),\n",
       " (8, 'the')]"
      ]
     },
     "execution_count": 47,
     "metadata": {
      "tags": []
     },
     "output_type": "execute_result"
    }
   ],
   "source": [
    "# The expected output of the following is \n",
    "# [(8, 'the'), (4, 'protocol'), (4, 'of'), (3, 'internet'), (3, 'applications')]\n",
    "sentence = \"\"\"\n",
    "    The Transmission Control Protocol (TCP) is one of the main protocols of the\n",
    "    Internet protocol suite. It originated in the initial network implementation\n",
    "    in which it complemented the Internet Protocol (IP).\n",
    "    Therefore, the entire suite is commonly referred to as TCP/IP. TCP provides\n",
    "    reliable, ordered, and error-checked delivery of a stream of octets between\n",
    "    applications running on hosts communicating by an IP network. Major Internet\n",
    "    applications such as the World Wide Web, email, remote administration, and\n",
    "    file transfer rely on TCP. Applications that do not require reliable data\n",
    "    stream service may use the User Datagram Protocol (UDP), which provides a\n",
    "    connectionless datagram service that emphasizes reduced latency over\n",
    "    reliability.\n",
    "\"\"\"\n",
    "problem_5(sentence)"
   ]
  },
  {
   "cell_type": "markdown",
   "metadata": {
    "colab_type": "text",
    "id": "zeZGTrc3l8g-"
   },
   "source": [
    "## Problem 6\n",
    "\n",
    "Write a function that reads a **CSV file** and convert the data into a Python **dictionary**. The input to the function is the absolute path to the CSV file, and the output should be a list of dictionary objects. For example, if the content of the CSV file is as follows:\n",
    "\n",
    "    hkid,sex,dob,location\n",
    "    A123456(1),M,1985-10-20,Mongkok\n",
    "    B234567(2),F,1990-02-12,Shatin\n",
    "\n",
    "The output of the function should be the following:\n",
    "\n",
    "    [\n",
    "        {\"hkid\": \"A123456(1)\", \"sex\": \"M\", \"dob\": \"1985-10-20\", \"location\": \"Mongkok\"},\n",
    "        {\"hkid\": \"B234567(2)\", \"sex\": \"F\", \"dob\": \"1990-02-12\", \"location\": \"Shatin\"}\n",
    "    ]\n",
    "\n",
    "That is, the keys of the dictionaries are the column names in the CSV file; and the values are the values found in each record. Note that the first line of the CSV file contains the column names.\n",
    "\n",
    "You can assume that fields are separated by **commas**, and no comma will appear in the content of a cell.\n",
    "\n"
   ]
  },
  {
   "cell_type": "code",
   "execution_count": 25,
   "metadata": {
    "colab": {},
    "colab_type": "code",
    "id": "RdkmKPYMmOI7"
   },
   "outputs": [],
   "source": [
    "# Problem 6\n",
    "import csv\n",
    "def problem_6(csv_file_path):\n",
    "    output = []\n",
    "    f = open('problem6.csv', 'r')\n",
    "    reader = csv.DictReader(f)\n",
    "    for row in reader:\n",
    "        output.append(row)\n",
    "    return output"
   ]
  },
  {
   "cell_type": "code",
   "execution_count": 26,
   "metadata": {
    "colab": {
     "base_uri": "https://localhost:8080/",
     "height": 35
    },
    "colab_type": "code",
    "id": "txs4wIb8aUO-",
    "outputId": "f9de72c1-7e1b-41b2-de83-4cbe59e23639"
   },
   "outputs": [
    {
     "data": {
      "text/plain": [
       "[OrderedDict([('hkid', 'A123456(1)'),\n",
       "              ('sex', 'M'),\n",
       "              ('dob', '1985-10-20'),\n",
       "              ('location', 'Mongkok')]),\n",
       " OrderedDict([('hkid', 'B234567(2)'),\n",
       "              ('sex', 'F'),\n",
       "              ('dob', '1990-02-12'),\n",
       "              ('location', 'Shatin')])]"
      ]
     },
     "execution_count": 26,
     "metadata": {},
     "output_type": "execute_result"
    }
   ],
   "source": [
    "# The expected output of the following is\n",
    "# [\n",
    "#   {\"hkid\": \"A123456(1)\", \"sex\": \"M\", \"dob\": \"1985-10-20\", \"location\": \"Mongkok\"},\n",
    "#   {\"hkid\": \"B234567(2)\", \"sex\": \"F\", \"dob\": \"1990-02-12\", \"location\": \"Shatin\"}\n",
    "# ]\n",
    "csv_file_path = \"problem6.csv\"\n",
    "problem_6(csv_file_path)"
   ]
  },
  {
   "cell_type": "markdown",
   "metadata": {
    "colab_type": "text",
    "id": "iRQ7N_LJmOtH"
   },
   "source": [
    "## Problem 7\n",
    "\n",
    "Write a function that checks whether the numbers on a **Sudoku board** is placed in a valid way. The board that is input to the function will be in the form of a **list of lists (similar to a two-dimensional array)**. The board can be partially filled. An example is given below (**zeros indicate that the cell is empty**):\n",
    "\n",
    "    board = [\n",
    "        [0, 0, 0, 0, 0, 0, 0, 0, 0],\n",
    "        [0, 2, 0, 0, 9, 0, 0, 4, 0],\n",
    "        [0, 0, 0, 6, 0, 0, 7, 0, 0],\n",
    "        [0, 0, 0, 0, 0, 0, 0, 0, 0],\n",
    "        [0, 3, 0, 0, 0, 0, 0, 0, 2],\n",
    "        [0, 0, 0, 0, 0, 0, 0, 0, 0],\n",
    "        [1, 0, 0, 3, 0, 0, 5, 0, 0],\n",
    "        [0, 0, 4, 0, 0, 0, 0, 3, 0],\n",
    "        [8, 0, 0, 2, 0, 0, 0, 0, 1]\n",
    "    ]\n",
    "\n",
    "On a Sudoku board, numbers should be placed by following the following rules:\n",
    "\n",
    "- Each row must contain the digits 1 to 9 without repetition\n",
    "- Each column must contain the digits 1 to 9 without repetition\n",
    "- Each of the 9 3x3 boxes of the grid must contain the digits 1 to 9 without repetition.\n"
   ]
  },
  {
   "cell_type": "code",
   "execution_count": 58,
   "metadata": {
    "colab": {},
    "colab_type": "code",
    "id": "-BpXOMAMmRn-"
   },
   "outputs": [],
   "source": [
    "# Problem 7\n",
    "def count(list_or_number):\n",
    "    digits = {\n",
    "        '0': 0,\n",
    "        '1': 0,\n",
    "        '2': 0,\n",
    "        '3': 0,\n",
    "        '4': 0,\n",
    "        '5': 0,\n",
    "        '6': 0,\n",
    "        '7': 0,\n",
    "        '8': 0,\n",
    "        '9': 0\n",
    "    }\n",
    "    for item in list_or_number:\n",
    "        digits[str(item)] = digits[str(item)] + 1\n",
    "    for item in list(digits.values())[1:]:\n",
    "        if item > 1:\n",
    "            return False\n",
    "        else:\n",
    "            continue\n",
    "    return True\n",
    "\n",
    "def problem_7(board):\n",
    "    validate = True\n",
    "    # Check each row.\n",
    "    if validate == True:\n",
    "        for row in board:\n",
    "            if count(row) == False:\n",
    "                validate = False\n",
    "                break\n",
    "            else:\n",
    "                continue\n",
    "    # Check each column\n",
    "    if validate == True:\n",
    "        for x in range(0,9):\n",
    "            if count([row[x] for row in board]) == False:\n",
    "                validate = False\n",
    "                break\n",
    "            else:\n",
    "                continue\n",
    "    # Check each 3*3 square.\n",
    "    if validate == True:\n",
    "        # Iterating the centre point of the 3*3 square.\n",
    "        for x in range(1, 8):\n",
    "            for y in range(1, 8):\n",
    "                # Find the 9 numbers around the centre point.\n",
    "                numbers = [\n",
    "                    board[x-1][y-1],\n",
    "                    board[x][y-1],\n",
    "                    board[x+1][y-1],\n",
    "                    board[x-1][y],\n",
    "                    board[x][y],\n",
    "                    board[x+1][y],\n",
    "                    board[x-1][y+1],\n",
    "                    board[x][y+1],\n",
    "                    board[x+1][y+1]\n",
    "                ]\n",
    "                if count(numbers) == False:\n",
    "                    validate = False\n",
    "                    break\n",
    "                else:\n",
    "                    continue\n",
    "    return validate\n",
    "    "
   ]
  },
  {
   "cell_type": "code",
   "execution_count": 59,
   "metadata": {
    "colab": {
     "base_uri": "https://localhost:8080/",
     "height": 35
    },
    "colab_type": "code",
    "id": "dgoRIhk_dqf8",
    "outputId": "a9e3ff4e-3929-4075-afcf-bc4d52024924"
   },
   "outputs": [
    {
     "data": {
      "text/plain": [
       "False"
      ]
     },
     "execution_count": 59,
     "metadata": {},
     "output_type": "execute_result"
    }
   ],
   "source": [
    "# The expected output of the following is True\n",
    "board = [\n",
    "    [0, 0, 0, 0, 0, 0, 0, 0, 0],\n",
    "    [0, 2, 0, 0, 9, 0, 0, 4, 0],\n",
    "    [0, 0, 0, 6, 0, 0, 7, 0, 0],\n",
    "    [0, 0, 0, 0, 0, 0, 0, 0, 0],\n",
    "    [0, 3, 0, 0, 0, 0, 0, 0, 2],\n",
    "    [0, 0, 0, 0, 0, 0, 0, 0, 0],\n",
    "    [1, 0, 0, 3, 0, 0, 5, 0, 0],\n",
    "    [0, 0, 4, 0, 0, 0, 0, 3, 0],\n",
    "    [8, 0, 0, 2, 0, 0, 0, 0, 1]\n",
    "]\n",
    "problem_7(board)"
   ]
  },
  {
   "cell_type": "code",
   "execution_count": null,
   "metadata": {
    "colab": {},
    "colab_type": "code",
    "id": "1iSH8SGHdv6p"
   },
   "outputs": [],
   "source": []
  }
 ],
 "metadata": {
  "colab": {
   "collapsed_sections": [],
   "name": "iems5780_a0_template.ipynb",
   "provenance": [],
   "toc_visible": true,
   "version": "0.3.2"
  },
  "kernelspec": {
   "display_name": "Python 3",
   "language": "python",
   "name": "python3"
  },
  "language_info": {
   "codemirror_mode": {
    "name": "ipython",
    "version": 3
   },
   "file_extension": ".py",
   "mimetype": "text/x-python",
   "name": "python",
   "nbconvert_exporter": "python",
   "pygments_lexer": "ipython3",
   "version": "3.7.3"
  }
 },
 "nbformat": 4,
 "nbformat_minor": 2
}
