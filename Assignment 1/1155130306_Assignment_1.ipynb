{
 "cells": [
  {
   "cell_type": "markdown",
   "metadata": {},
   "source": [
    "# IEMS5780 - Assignment 1"
   ]
  },
  {
   "cell_type": "markdown",
   "metadata": {},
   "source": [
    "> 1155130306 Junru Zhong 鍾鈞儒\n",
    ">\n",
    "> Last modified Oct 6, 2019"
   ]
  },
  {
   "cell_type": "code",
   "execution_count": 1,
   "metadata": {
    "collapsed": false,
    "pycharm": {
     "is_executing": true,
     "name": "#%%\n"
    }
   },
   "outputs": [],
   "source": [
    "# Imports\n",
    "import glob\n",
    "import pandas as pd\n",
    "\n",
    "from sklearn.model_selection import train_test_split\n",
    "from sklearn.naive_bayes import MultinomialNB\n",
    "from sklearn.linear_model import LogisticRegression\n",
    "from sklearn.feature_extraction.text import CountVectorizer, TfidfVectorizer\n",
    "from sklearn.pipeline import Pipeline\n",
    "from sklearn.metrics import classification_report"
   ]
  },
  {
   "cell_type": "markdown",
   "metadata": {},
   "source": [
    "## 1. Data Preparation\n",
    "\n",
    "The following function is used to do the combining and spliting work. It returns a tuple of pandas dataframes, which corresponding to training and test set.\n",
    "\n",
    "Because I am working on a Windows machine, the paths were written in black slashes '\\'. If you are using a Unix machine, please modify them to the slashes '/'."
   ]
  },
  {
   "cell_type": "code",
   "execution_count": 12,
   "metadata": {
    "pycharm": {
     "is_executing": true
    }
   },
   "outputs": [],
   "source": [
    "def combine(dataset_path, is_shuffle=False, save_path=None):\n",
    "    \"\"\"Combine the train and test dataset.\n",
    "    :param: dataset_path: str\n",
    "    :param: is_shuffle: boolean\n",
    "    :param: save_path: str, None for don't save\n",
    "    :return: (training_dataframe, test_dataframe): tuple\n",
    "    \"\"\"\n",
    "    print('Date pre-processing...')\n",
    "    data = []\n",
    "    # Open files in positive comments.\n",
    "    for filename in glob.glob(dataset_path + 'train\\\\pos\\\\*.txt'):\n",
    "        with open(filename, 'r', encoding='utf8') as f:\n",
    "            data += [[f.read().strip(), 1]]\n",
    "    for filename in glob.glob(dataset_path + 'test\\\\pos\\\\*.txt'):\n",
    "        with open(filename, 'r', encoding='utf8') as f:\n",
    "            data += [[f.read().strip(), 1]]\n",
    "    # Open files in negative comments.\n",
    "    for filename in glob.glob(dataset_path + 'train\\\\neg\\\\*.txt'):\n",
    "        with open(filename, 'r', encoding='utf8') as f:\n",
    "            data += [[f.read().strip(), 0]]\n",
    "    for filename in glob.glob(dataset_path + 'test\\\\neg\\\\*.txt'):\n",
    "        with open(filename, 'r', encoding='utf8') as f:\n",
    "            data += [[f.read().strip(), 0]]\n",
    "\n",
    "    # Load datalist into DataFrame\n",
    "    df = pd.DataFrame(data, columns=['comment', 'attitude'])\n",
    "    # Shuffle\n",
    "    if is_shuffle:\n",
    "        df = df.sample(frac=1)\n",
    "    # Split the dataset\n",
    "    df_train, df_test = train_test_split(df, test_size=0.3)\n",
    "    # Save DataFrame to csv file.\n",
    "    if save_path is not None:\n",
    "        with open(save_path + 'train.csv', 'w', encoding='utf8') as f:\n",
    "            df_train.to_csv(f)\n",
    "        with open(save_path + 'test.csv', 'w', encoding='utf8') as f:\n",
    "            df_test.to_csv(f)\n",
    "    # Return the dataframe.\n",
    "    return df_train, df_test"
   ]
  },
  {
   "cell_type": "markdown",
   "metadata": {},
   "source": [
    "Call the function above, to get the dataframe variables. This function will be run for a while, depends on your disk speed."
   ]
  },
  {
   "cell_type": "code",
   "execution_count": 3,
   "metadata": {
    "pycharm": {
     "is_executing": true
    }
   },
   "outputs": [],
   "source": [
    "# Run the code. Please fill your path of dataset and output file.\n",
    "train, test = combine('E:\\\\Datasets\\\\aclImdb\\\\', True, None)"
   ]
  },
  {
   "cell_type": "markdown",
   "metadata": {},
   "source": [
    "## 2. Using a Naive Bayes Classification\n",
    "\n",
    "In this section, a pipeline will be built to read the data, then count it by `CountVectorizer` and `TfidfVectorizer`, then train a Naive Bayes Classifier."
   ]
  },
  {
   "cell_type": "code",
   "execution_count": 7,
   "metadata": {
    "pycharm": {
     "is_executing": true
    }
   },
   "outputs": [],
   "source": [
    "def naive_bayes_count(train, test, save_path=None):\n",
    "    \"\"\"Train a Naive Bayes classifier with count vectorizer.\n",
    "    :param training set. pandas Dataframe.\n",
    "    :param test set. pandas Dataframe.\n",
    "    :param model save path. str. None for don't save.\n",
    "    :return sklearn model.\n",
    "    \"\"\"\n",
    "    print('Training Naive Bayes model with unigram CountVectorize...')\n",
    "    # Extract documents and labels.\n",
    "    docs_train = train['comment']\n",
    "    labels_train = train['attitude']\n",
    "    docs_test = test['comment']\n",
    "    labels_test = test['attitude']\n",
    "    # Start up a Pipeline\n",
    "    pipe = Pipeline([\n",
    "        ('vec', CountVectorizer()),\n",
    "        ('nb', MultinomialNB())\n",
    "    ])\n",
    "    # Train the model.\n",
    "    pipe.fit(docs_train, labels_train)\n",
    "    # Do prediction.\n",
    "    y_pred = pipe.predict(docs_test)\n",
    "    # Get report.\n",
    "    print(classification_report(labels_test, y_pred))"
   ]
  },
  {
   "cell_type": "code",
   "execution_count": 12,
   "metadata": {},
   "outputs": [
    {
     "name": "stdout",
     "output_type": "stream",
     "text": [
      "              precision    recall  f1-score   support\n",
      "\n",
      "           0       0.83      0.88      0.85      7487\n",
      "           1       0.87      0.82      0.84      7513\n",
      "\n",
      "    accuracy                           0.85     15000\n",
      "   macro avg       0.85      0.85      0.85     15000\n",
      "weighted avg       0.85      0.85      0.85     15000\n",
      "\n"
     ]
    }
   ],
   "source": [
    "naive_bayes_count(train, test, None)"
   ]
  },
  {
   "cell_type": "code",
   "execution_count": 8,
   "metadata": {},
   "outputs": [],
   "source": [
    "def naive_bayes_tfidf(train, test, save_path=None):\n",
    "    \"\"\"Train a Naive Bayes classifier with Tf-Idf vectorizer.\n",
    "    :param training set. pandas Dataframe.\n",
    "    :param test set. pandas Dataframe.\n",
    "    :param model save path. str. None for don't save.\n",
    "    :return sklearn model.\n",
    "    \"\"\"\n",
    "    print('Training Naive Bayes model with unigram TfidfVectorize...')\n",
    "    # Extract documents and labels.\n",
    "    docs_train = train['comment']\n",
    "    labels_train = train['attitude']\n",
    "    docs_test = test['comment']\n",
    "    labels_test = test['attitude']\n",
    "    # Start up a Pipeline\n",
    "    pipe = Pipeline([\n",
    "        ('vec', TfidfVectorizer()),\n",
    "        ('nb', MultinomialNB())\n",
    "    ])\n",
    "    # Train the model.\n",
    "    pipe.fit(docs_train, labels_train)\n",
    "    # Do prediction.\n",
    "    y_pred = pipe.predict(docs_test)\n",
    "    # Get report.\n",
    "    print(classification_report(labels_test, y_pred))"
   ]
  },
  {
   "cell_type": "code",
   "execution_count": 5,
   "metadata": {},
   "outputs": [
    {
     "name": "stdout",
     "output_type": "stream",
     "text": [
      "              precision    recall  f1-score   support\n",
      "\n",
      "           0       0.84      0.89      0.87      7432\n",
      "           1       0.89      0.84      0.86      7568\n",
      "\n",
      "    accuracy                           0.86     15000\n",
      "   macro avg       0.86      0.86      0.86     15000\n",
      "weighted avg       0.86      0.86      0.86     15000\n",
      "\n"
     ]
    }
   ],
   "source": [
    "naive_bayes_tfidf(train, test, None)"
   ]
  },
  {
   "cell_type": "markdown",
   "metadata": {},
   "source": [
    "## 3. Using Logistic Regression\n",
    "\n",
    "In this section, a pipeline will be built to read the data, then count it by CountVectorizer and TfidfVectorizer, then train a logistic regression classifier."
   ]
  },
  {
   "cell_type": "code",
   "execution_count": 9,
   "metadata": {},
   "outputs": [],
   "source": [
    "def logistic_regression_count(train, test, save_path=None):\n",
    "    \"\"\"Train a logistic regression classifier with count vectorizer.\n",
    "    :param training set. pandas Dataframe.\n",
    "    :param test set. pandas Dataframe.\n",
    "    :param model save path. str. None for don't save.\n",
    "    :return sklearn model.\n",
    "    \"\"\"\n",
    "    print('Training Logistic Regression model with unigram CountVectorize...')\n",
    "    # Extract documents and labels.\n",
    "    docs_train = train['comment']\n",
    "    labels_train = train['attitude']\n",
    "    docs_test = test['comment']\n",
    "    labels_test = test['attitude']\n",
    "    # Start up a Pipeline\n",
    "    pipe = Pipeline([\n",
    "        ('vec', CountVectorizer()),\n",
    "        ('log', LogisticRegression())\n",
    "    ])\n",
    "    # Train the model.\n",
    "    pipe.fit(docs_train, labels_train)\n",
    "    # Do prediction.\n",
    "    y_pred = pipe.predict(docs_test)\n",
    "    # Get report.\n",
    "    print(classification_report(labels_test, y_pred))"
   ]
  },
  {
   "cell_type": "code",
   "execution_count": 12,
   "metadata": {},
   "outputs": [
    {
     "name": "stderr",
     "output_type": "stream",
     "text": [
      "D:\\Libraries\\Python\\Python37\\lib\\site-packages\\sklearn\\linear_model\\logistic.py:432: FutureWarning: Default solver will be changed to 'lbfgs' in 0.22. Specify a solver to silence this warning.\n",
      "  FutureWarning)\n"
     ]
    },
    {
     "name": "stdout",
     "output_type": "stream",
     "text": [
      "              precision    recall  f1-score   support\n",
      "\n",
      "           0       0.89      0.88      0.88      7432\n",
      "           1       0.88      0.89      0.89      7568\n",
      "\n",
      "    accuracy                           0.88     15000\n",
      "   macro avg       0.88      0.88      0.88     15000\n",
      "weighted avg       0.88      0.88      0.88     15000\n",
      "\n"
     ]
    }
   ],
   "source": [
    "logistic_regression_count(train, test, None)"
   ]
  },
  {
   "cell_type": "code",
   "execution_count": 10,
   "metadata": {},
   "outputs": [],
   "source": [
    "def logistic_regression_tfidf(train, test, save_path=None):\n",
    "    \"\"\"Train a logistic regression classifier with Tf-idf vectorizer.\n",
    "    :param training set. pandas Dataframe.\n",
    "    :param test set. pandas Dataframe.\n",
    "    :param model save path. str. None for don't save.\n",
    "    :return sklearn model.\n",
    "    \"\"\"\n",
    "    print('Training Logistic Regression model with unigram TfidfVectorize...')\n",
    "    # Extract documents and labels.\n",
    "    docs_train = train['comment']\n",
    "    labels_train = train['attitude']\n",
    "    docs_test = test['comment']\n",
    "    labels_test = test['attitude']\n",
    "    # Start up a Pipeline\n",
    "    pipe = Pipeline([\n",
    "        ('vec', TfidfVectorizer()),\n",
    "        ('log', LogisticRegression())\n",
    "    ])\n",
    "    # Train the model.\n",
    "    pipe.fit(docs_train, labels_train)\n",
    "    # Do prediction.\n",
    "    y_pred = pipe.predict(docs_test)\n",
    "    # Get report.\n",
    "    print(classification_report(labels_test, y_pred))"
   ]
  },
  {
   "cell_type": "code",
   "execution_count": 15,
   "metadata": {},
   "outputs": [
    {
     "name": "stderr",
     "output_type": "stream",
     "text": [
      "D:\\Libraries\\Python\\Python37\\lib\\site-packages\\sklearn\\linear_model\\logistic.py:432: FutureWarning: Default solver will be changed to 'lbfgs' in 0.22. Specify a solver to silence this warning.\n",
      "  FutureWarning)\n"
     ]
    },
    {
     "name": "stdout",
     "output_type": "stream",
     "text": [
      "              precision    recall  f1-score   support\n",
      "\n",
      "           0       0.90      0.88      0.89      7432\n",
      "           1       0.88      0.91      0.90      7568\n",
      "\n",
      "    accuracy                           0.89     15000\n",
      "   macro avg       0.89      0.89      0.89     15000\n",
      "weighted avg       0.89      0.89      0.89     15000\n",
      "\n"
     ]
    }
   ],
   "source": [
    "logistic_regression_tfidf(train, test, None)"
   ]
  },
  {
   "cell_type": "markdown",
   "metadata": {},
   "source": [
    "## 4. Bi-Gram Models\n",
    "Repeat all experiments with bi-gram."
   ]
  },
  {
   "cell_type": "markdown",
   "metadata": {},
   "source": [
    "### Naive Bayes Models"
   ]
  },
  {
   "cell_type": "code",
   "execution_count": 15,
   "metadata": {},
   "outputs": [],
   "source": [
    "def naive_bayes_count_bigram(train, test, save_path=None):\n",
    "    \"\"\"Train a Naive Bayes classifier with count vectorizer.\n",
    "    :param training set. pandas Dataframe.\n",
    "    :param test set. pandas Dataframe.\n",
    "    :param model save path. str. None for don't save.\n",
    "    :return sklearn model.\n",
    "    \"\"\"\n",
    "    print('Training Naive Bayes model with bigram CountVectorize...')\n",
    "    # Extract documents and labels.\n",
    "    docs_train = train['comment']\n",
    "    labels_train = train['attitude']\n",
    "    docs_test = test['comment']\n",
    "    labels_test = test['attitude']\n",
    "    # Start up a Pipeline\n",
    "    pipe = Pipeline([\n",
    "        ('vec', CountVectorizer(ngram_range=(1,2))),\n",
    "        ('nb', MultinomialNB())\n",
    "    ])\n",
    "    # Train the model.\n",
    "    pipe.fit(docs_train, labels_train)\n",
    "    # Do prediction.\n",
    "    y_pred = pipe.predict(docs_test)\n",
    "    # Get report.\n",
    "    print(classification_report(labels_test, y_pred))"
   ]
  },
  {
   "cell_type": "markdown",
   "metadata": {},
   "source": [
    "### Logistic Regression Models"
   ]
  },
  {
   "cell_type": "code",
   "execution_count": 16,
   "metadata": {},
   "outputs": [],
   "source": [
    "def logistic_regression_count_bigram(train, test, save_path=None):\n",
    "    \"\"\"Train a logistic regression classifier with count vectorizer.\n",
    "    :param training set. pandas Dataframe.\n",
    "    :param test set. pandas Dataframe.\n",
    "    :param model save path. str. None for don't save.\n",
    "    :return sklearn model.\n",
    "    \"\"\"\n",
    "    print('Training Logistic Regression model with biigram CountVectorize...')\n",
    "    # Extract documents and labels.\n",
    "    docs_train = train['comment']\n",
    "    labels_train = train['attitude']\n",
    "    docs_test = test['comment']\n",
    "    labels_test = test['attitude']\n",
    "    # Start up a Pipeline\n",
    "    pipe = Pipeline([\n",
    "        ('vec', CountVectorizer(ngram_range=(1,2))),\n",
    "        ('log', LogisticRegression())\n",
    "    ])\n",
    "    # Train the model.\n",
    "    pipe.fit(docs_train, labels_train)\n",
    "    # Do prediction.\n",
    "    y_pred = pipe.predict(docs_test)\n",
    "    # Get report.\n",
    "    print(classification_report(labels_test, y_pred))"
   ]
  },
  {
   "cell_type": "code",
   "execution_count": 17,
   "metadata": {},
   "outputs": [
    {
     "name": "stdout",
     "output_type": "stream",
     "text": [
      "Date pre-processing...\n",
      "Training Naive Bayes model with unigram CountVectorize...\n",
      "              precision    recall  f1-score   support\n",
      "\n",
      "           0       0.83      0.88      0.85      7518\n",
      "           1       0.87      0.81      0.84      7482\n",
      "\n",
      "    accuracy                           0.85     15000\n",
      "   macro avg       0.85      0.85      0.85     15000\n",
      "weighted avg       0.85      0.85      0.85     15000\n",
      "\n",
      "Training Naive Bayes model with unigram TfidfVectorize...\n",
      "              precision    recall  f1-score   support\n",
      "\n",
      "           0       0.85      0.89      0.87      7518\n",
      "           1       0.88      0.84      0.86      7482\n",
      "\n",
      "    accuracy                           0.87     15000\n",
      "   macro avg       0.87      0.87      0.86     15000\n",
      "weighted avg       0.87      0.87      0.86     15000\n",
      "\n",
      "Training Logistic Regression model with unigram CountVectorize...\n"
     ]
    },
    {
     "name": "stderr",
     "output_type": "stream",
     "text": [
      "D:\\Libraries\\Python\\Python37\\lib\\site-packages\\sklearn\\linear_model\\logistic.py:432: FutureWarning: Default solver will be changed to 'lbfgs' in 0.22. Specify a solver to silence this warning.\n",
      "  FutureWarning)\n"
     ]
    },
    {
     "name": "stdout",
     "output_type": "stream",
     "text": [
      "              precision    recall  f1-score   support\n",
      "\n",
      "           0       0.90      0.89      0.89      7518\n",
      "           1       0.89      0.90      0.89      7482\n",
      "\n",
      "    accuracy                           0.89     15000\n",
      "   macro avg       0.89      0.89      0.89     15000\n",
      "weighted avg       0.89      0.89      0.89     15000\n",
      "\n",
      "Training Logistic Regression model with unigram TfidfVectorize...\n",
      "              precision    recall  f1-score   support\n",
      "\n",
      "           0       0.91      0.89      0.90      7518\n",
      "           1       0.89      0.91      0.90      7482\n",
      "\n",
      "    accuracy                           0.90     15000\n",
      "   macro avg       0.90      0.90      0.90     15000\n",
      "weighted avg       0.90      0.90      0.90     15000\n",
      "\n",
      "Training Naive Bayes model with bigram CountVectorize...\n",
      "              precision    recall  f1-score   support\n",
      "\n",
      "           0       0.87      0.90      0.88      7518\n",
      "           1       0.90      0.86      0.88      7482\n",
      "\n",
      "    accuracy                           0.88     15000\n",
      "   macro avg       0.88      0.88      0.88     15000\n",
      "weighted avg       0.88      0.88      0.88     15000\n",
      "\n",
      "Training Logistic Regression model with biigram CountVectorize...\n"
     ]
    },
    {
     "name": "stderr",
     "output_type": "stream",
     "text": [
      "D:\\Libraries\\Python\\Python37\\lib\\site-packages\\sklearn\\linear_model\\logistic.py:432: FutureWarning: Default solver will be changed to 'lbfgs' in 0.22. Specify a solver to silence this warning.\n",
      "  FutureWarning)\n"
     ]
    },
    {
     "name": "stdout",
     "output_type": "stream",
     "text": [
      "              precision    recall  f1-score   support\n",
      "\n",
      "           0       0.91      0.91      0.91      7518\n",
      "           1       0.91      0.91      0.91      7482\n",
      "\n",
      "    accuracy                           0.91     15000\n",
      "   macro avg       0.91      0.91      0.91     15000\n",
      "weighted avg       0.91      0.91      0.91     15000\n",
      "\n"
     ]
    }
   ],
   "source": [
    "# Data preprocessing Please fill your path of dataset and output file.\n",
    "train, test = combine('E:\\\\Datasets\\\\aclImdb\\\\', True, None)\n",
    "# Run all models.\n",
    "naive_bayes_count(train, test, False)\n",
    "naive_bayes_tfidf(train, test, False)\n",
    "logistic_regression_count(train, test, False)\n",
    "logistic_regression_tfidf(train, test, False)\n",
    "naive_bayes_count_bigram(train, test, False)\n",
    "logistic_regression_count_bigram(train, test, False)"
   ]
  },
  {
   "cell_type": "markdown",
   "metadata": {},
   "source": [
    "## 5. fastText\n",
    "Now train a fastText model on the movie comments."
   ]
  },
  {
   "cell_type": "code",
   "execution_count": 18,
   "metadata": {},
   "outputs": [],
   "source": [
    "# Import fastText module.\n",
    "import fasttext"
   ]
  },
  {
   "cell_type": "code",
   "execution_count": null,
   "metadata": {},
   "outputs": [],
   "source": []
  }
 ],
 "metadata": {
  "kernelspec": {
   "display_name": "Python 3",
   "language": "python",
   "name": "python3"
  },
  "language_info": {
   "codemirror_mode": {
    "name": "ipython",
    "version": 3
   },
   "file_extension": ".py",
   "mimetype": "text/x-python",
   "name": "python",
   "nbconvert_exporter": "python",
   "pygments_lexer": "ipython3",
   "version": "3.7.3"
  },
  "pycharm": {
   "stem_cell": {
    "cell_type": "raw",
    "metadata": {
     "collapsed": false
    },
    "source": []
   }
  }
 },
 "nbformat": 4,
 "nbformat_minor": 2
}
